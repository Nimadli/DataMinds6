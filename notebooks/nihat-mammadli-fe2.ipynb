{
 "cells": [
  {
   "cell_type": "code",
   "execution_count": null,
   "id": "7a5ae2f4-4f88-4dbe-829e-1449581dc205",
   "metadata": {
    "execution": {
     "iopub.execute_input": "2025-08-06T10:59:25.023477Z",
     "iopub.status.busy": "2025-08-06T10:59:25.022953Z",
     "iopub.status.idle": "2025-08-06T10:59:25.028627Z",
     "shell.execute_reply": "2025-08-06T10:59:25.027572Z",
     "shell.execute_reply.started": "2025-08-06T10:59:25.023449Z"
    }
   },
   "outputs": [],
   "source": [
    "import pandas as pd\n",
    "from sklearn.model_selection import train_test_split\n",
    "from sklearn.pipeline import Pipeline\n",
    "from sklearn.impute import SimpleImputer\n",
    "from sklearn.preprocessing import OneHotEncoder\n",
    "from sklearn.ensemble import RandomForestRegressor\n",
    "from sklearn.compose import ColumnTransformer\n",
    "from sklearn.metrics import mean_squared_error\n",
    "from category_encoders import CatBoostEncoder"
   ]
  },
  {
   "cell_type": "code",
   "execution_count": null,
   "id": "c1630b5b-5175-4623-a9ad-b7ad8ff1a91a",
   "metadata": {
    "execution": {
     "iopub.execute_input": "2025-08-06T10:59:25.242978Z",
     "iopub.status.busy": "2025-08-06T10:59:25.242513Z",
     "iopub.status.idle": "2025-08-06T10:59:25.251565Z",
     "shell.execute_reply": "2025-08-06T10:59:25.250775Z",
     "shell.execute_reply.started": "2025-08-06T10:59:25.242953Z"
    }
   },
   "outputs": [],
   "source": [
    "df = pd.read_csv(\"ramen_ratings.csv\")"
   ]
  },
  {
   "cell_type": "code",
   "execution_count": null,
   "id": "0fa07d67-a0ab-47dc-9266-ee451145edef",
   "metadata": {
    "execution": {
     "iopub.execute_input": "2025-08-06T10:59:25.387020Z",
     "iopub.status.busy": "2025-08-06T10:59:25.386283Z",
     "iopub.status.idle": "2025-08-06T10:59:25.410053Z",
     "shell.execute_reply": "2025-08-06T10:59:25.409350Z",
     "shell.execute_reply.started": "2025-08-06T10:59:25.386983Z"
    }
   },
   "outputs": [],
   "source": [
    "df.set_index(\"Review #\", inplace=True)\n",
    "df = df.dropna(subset=[\"Style\", \"Country\", \"Brand\"])\n",
    "\n",
    "# Top Ten column will show whether the item is in top ten\n",
    "df.loc[df[\"Top Ten\"].notna(), \"Top Ten\"] = 1\n",
    "df.loc[df[\"Top Ten\"].isna(), \"Top Ten\"] = 0\n",
    "\n",
    "# Drop unrated rows and change data types\n",
    "df = df[df[\"Stars\"] != \"Unrated\"]\n",
    "df[\"Stars\"] = df[\"Stars\"].astype(float)\n",
    "df[\"Top Ten\"] = df[\"Top Ten\"].astype(int)\n",
    "\n",
    "df.info()\n",
    "df.head()"
   ]
  },
  {
   "cell_type": "code",
   "execution_count": null,
   "id": "b9e38799-6434-41fd-b040-17b55402966c",
   "metadata": {
    "execution": {
     "iopub.execute_input": "2025-08-06T10:59:25.568343Z",
     "iopub.status.busy": "2025-08-06T10:59:25.567993Z",
     "iopub.status.idle": "2025-08-06T10:59:25.575436Z",
     "shell.execute_reply": "2025-08-06T10:59:25.574770Z",
     "shell.execute_reply.started": "2025-08-06T10:59:25.568321Z"
    }
   },
   "outputs": [],
   "source": [
    "X = df[[\"Brand\", \"Variety\", \"Country\", \"Top Ten\", \"Style\"]]\n",
    "y = df[\"Stars\"]\n",
    "X_train, X_test, y_train, y_test = train_test_split(X, y, random_state=42)"
   ]
  },
  {
   "cell_type": "code",
   "execution_count": null,
   "id": "97392f68-5ced-4152-b21e-9b64cc335689",
   "metadata": {
    "execution": {
     "iopub.execute_input": "2025-08-06T10:59:25.727779Z",
     "iopub.status.busy": "2025-08-06T10:59:25.727474Z",
     "iopub.status.idle": "2025-08-06T10:59:25.731674Z",
     "shell.execute_reply": "2025-08-06T10:59:25.730887Z",
     "shell.execute_reply.started": "2025-08-06T10:59:25.727758Z"
    }
   },
   "outputs": [],
   "source": [
    "catboost_cols = [\"Brand\", \"Variety\", \"Country\"]\n",
    "onehot_cols = [\"Style\"]"
   ]
  },
  {
   "cell_type": "code",
   "execution_count": null,
   "id": "c2058e0c-d9cd-46d3-910a-85ddf5f341ee",
   "metadata": {
    "execution": {
     "iopub.execute_input": "2025-08-06T10:59:25.950232Z",
     "iopub.status.busy": "2025-08-06T10:59:25.949935Z",
     "iopub.status.idle": "2025-08-06T10:59:25.955219Z",
     "shell.execute_reply": "2025-08-06T10:59:25.954390Z",
     "shell.execute_reply.started": "2025-08-06T10:59:25.950208Z"
    }
   },
   "outputs": [],
   "source": [
    "catboost_pipeline = Pipeline(\n",
    "    [\n",
    "        (\"imputer\", SimpleImputer(strategy=\"constant\", fill_value=\"missing\")),\n",
    "        (\"encoder\", CatBoostEncoder()),\n",
    "    ]\n",
    ")\n",
    "\n",
    "onehot_pipeline = Pipeline(\n",
    "    [\n",
    "        (\"imputer\", SimpleImputer(strategy=\"constant\", fill_value=\"missing\")),\n",
    "        (\"encoder\", OneHotEncoder(handle_unknown=\"ignore\")),\n",
    "    ]\n",
    ")\n",
    "\n",
    "preprocessor = ColumnTransformer(\n",
    "    [\n",
    "        (\"catboost\", catboost_pipeline, catboost_cols),\n",
    "        (\"onehot\", onehot_pipeline, onehot_cols),\n",
    "        (\"passthrough\", \"passthrough\", [\"Top Ten\"]),\n",
    "    ]\n",
    ")\n",
    "\n",
    "model = Pipeline(\n",
    "    [(\"preprocessing\", preprocessor), (\"model\", RandomForestRegressor(random_state=42))]\n",
    ")"
   ]
  },
  {
   "cell_type": "code",
   "execution_count": null,
   "id": "6b234409-dbcc-430f-a2e3-2f06b05fee85",
   "metadata": {
    "execution": {
     "iopub.execute_input": "2025-08-06T10:59:26.161654Z",
     "iopub.status.busy": "2025-08-06T10:59:26.160978Z",
     "iopub.status.idle": "2025-08-06T10:59:26.992990Z",
     "shell.execute_reply": "2025-08-06T10:59:26.992295Z",
     "shell.execute_reply.started": "2025-08-06T10:59:26.161627Z"
    }
   },
   "outputs": [],
   "source": [
    "model.fit(X_train, y_train)"
   ]
  },
  {
   "cell_type": "code",
   "execution_count": null,
   "id": "4684fabb-eb81-4f97-b2e8-0630cb635bd2",
   "metadata": {
    "execution": {
     "iopub.execute_input": "2025-08-06T10:59:26.994193Z",
     "iopub.status.busy": "2025-08-06T10:59:26.993962Z",
     "iopub.status.idle": "2025-08-06T10:59:27.042582Z",
     "shell.execute_reply": "2025-08-06T10:59:27.041726Z",
     "shell.execute_reply.started": "2025-08-06T10:59:26.994175Z"
    }
   },
   "outputs": [],
   "source": [
    "y_pred = model.predict(X_test)\n",
    "\n",
    "error = mean_squared_error(y_test, y_pred) ** (1 / 2)\n",
    "error"
   ]
  },
  {
   "cell_type": "code",
   "execution_count": null,
   "id": "26d7a6e8-31c2-4f67-9a9b-eb70d982cd06",
   "metadata": {
    "execution": {
     "iopub.execute_input": "2025-08-06T10:59:27.044028Z",
     "iopub.status.busy": "2025-08-06T10:59:27.043700Z",
     "iopub.status.idle": "2025-08-06T10:59:27.067038Z",
     "shell.execute_reply": "2025-08-06T10:59:27.066207Z",
     "shell.execute_reply.started": "2025-08-06T10:59:27.044006Z"
    }
   },
   "outputs": [],
   "source": [
    "# Calculate the importance of features\n",
    "feature_names = model.named_steps[\"preprocessing\"].get_feature_names_out()\n",
    "\n",
    "importances = model.named_steps[\"model\"].feature_importances_\n",
    "\n",
    "feat_importance_df = pd.DataFrame(\n",
    "    {\"Feature\": feature_names, \"Importance\": importances}\n",
    ").sort_values(by=\"Importance\", ascending=False)\n",
    "\n",
    "feat_importance_df"
   ]
  },
  {
   "cell_type": "code",
   "execution_count": null,
   "id": "ea682534-5904-49ec-8cd3-c5923844e996",
   "metadata": {},
   "outputs": [],
   "source": [
    "import boto3\n",
    "\n",
    "# Replace with your actual credentials and info\n",
    "bucket_name = \"dataminds-homeworks\"\n",
    "s3_file_key = \"nihat-mammadli-fe2.ipynb\"\n",
    "local_file_path = \"nihat-mammadli-fe2.ipynb\"\n",
    "\n",
    "# Create an S3 client\n",
    "s3 = boto3.client(\"s3\")\n",
    "\n",
    "# Upload the file\n",
    "try:\n",
    "    s3.upload_file(local_file_path, bucket_name, s3_file_key)\n",
    "    print(f\"File uploaded successfully to s3://{bucket_name}/{s3_file_key}\")\n",
    "except Exception as e:\n",
    "    print(\"Error uploading file:\", e)"
   ]
  }
 ],
 "metadata": {
  "kernelspec": {
   "display_name": "Python 3 (ipykernel)",
   "language": "python",
   "name": "python3"
  },
  "language_info": {
   "codemirror_mode": {
    "name": "ipython",
    "version": 3
   },
   "file_extension": ".py",
   "mimetype": "text/x-python",
   "name": "python",
   "nbconvert_exporter": "python",
   "pygments_lexer": "ipython3",
   "version": "3.12.9"
  }
 },
 "nbformat": 4,
 "nbformat_minor": 5
}
