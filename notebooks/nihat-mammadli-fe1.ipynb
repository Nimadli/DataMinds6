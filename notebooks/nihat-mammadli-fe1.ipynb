{
 "cells": [
  {
   "cell_type": "code",
   "execution_count": null,
   "id": "e85d906d-b045-4198-b13f-febb19f33a51",
   "metadata": {
    "execution": {
     "iopub.execute_input": "2025-08-04T18:59:07.076141Z",
     "iopub.status.busy": "2025-08-04T18:59:07.075865Z",
     "iopub.status.idle": "2025-08-04T18:59:10.256118Z",
     "shell.execute_reply": "2025-08-04T18:59:10.255221Z",
     "shell.execute_reply.started": "2025-08-04T18:59:07.076118Z"
    }
   },
   "outputs": [],
   "source": [
    "import boto3\n",
    "\n",
    "bucket_name = \"dataminds-homeworks\"\n",
    "s3_file_key = \"data_usage_production.parquet\"  # e.g. 'folder/myfile.txt'\n",
    "local_file_path = \"data_usage_production.parquet\"  # Local destination\n",
    "\n",
    "# Create an S3 client (remove `bucket_name` here — not a valid argument for boto3.client)\n",
    "s3 = boto3.client(\n",
    "    \"s3\",\n",
    "    region_name=\"us-east-1\",\n",
    "    # aws_access_key_id='your_access_key',\n",
    "    # aws_secret_access_key='your_secret_key'\n",
    ")\n",
    "\n",
    "# Download the file\n",
    "try:\n",
    "    s3.download_file(bucket_name, s3_file_key, local_file_path)\n",
    "    print(\n",
    "        f\"✅ File downloaded successfully from s3://{bucket_name}/{s3_file_key} to {local_file_path}\"\n",
    "    )\n",
    "except Exception as e:\n",
    "    print(\"❌ Error downloading file:\", e)"
   ]
  },
  {
   "cell_type": "code",
   "execution_count": null,
   "id": "f926ccaf-064f-45f8-9fa6-c58387a3aeaa",
   "metadata": {
    "execution": {
     "iopub.execute_input": "2025-08-04T19:15:47.563999Z",
     "iopub.status.busy": "2025-08-04T19:15:47.563484Z",
     "iopub.status.idle": "2025-08-04T19:15:47.569250Z",
     "shell.execute_reply": "2025-08-04T19:15:47.568522Z",
     "shell.execute_reply.started": "2025-08-04T19:15:47.563965Z"
    }
   },
   "outputs": [],
   "source": [
    "import pandas as pd\n",
    "import pyarrow.parquet as pq\n",
    "from sklearn.model_selection import train_test_split\n",
    "from sklearn.pipeline import Pipeline\n",
    "from sklearn.impute import SimpleImputer\n",
    "from sklearn.preprocessing import StandardScaler\n",
    "from sklearn.ensemble import RandomForestRegressor\n",
    "from sklearn.compose import ColumnTransformer\n",
    "from sklearn.metrics import mean_squared_error"
   ]
  },
  {
   "cell_type": "code",
   "execution_count": null,
   "id": "55294f06-3f7b-441e-bd03-cf62457f77e0",
   "metadata": {
    "execution": {
     "iopub.execute_input": "2025-08-04T19:15:49.151033Z",
     "iopub.status.busy": "2025-08-04T19:15:49.150716Z",
     "iopub.status.idle": "2025-08-04T19:15:49.159690Z",
     "shell.execute_reply": "2025-08-04T19:15:49.157823Z",
     "shell.execute_reply.started": "2025-08-04T19:15:49.151010Z"
    },
    "scrolled": true
   },
   "outputs": [],
   "source": [
    "# df = pd.read_parquet('data_usage_production.parquet', engine='pyarrow')\n",
    "parquet_file = pq.ParquetFile(\"data_usage_production.parquet\")\n",
    "column_names = parquet_file.schema.names\n",
    "column_names"
   ]
  },
  {
   "cell_type": "code",
   "execution_count": null,
   "id": "d1c4bc64-353e-47e3-8ebc-0b123ad42856",
   "metadata": {
    "collapsed": true,
    "execution": {
     "iopub.execute_input": "2025-08-04T19:15:49.529516Z",
     "iopub.status.busy": "2025-08-04T19:15:49.528961Z",
     "iopub.status.idle": "2025-08-04T19:15:56.707627Z",
     "shell.execute_reply": "2025-08-04T19:15:56.706850Z",
     "shell.execute_reply.started": "2025-08-04T19:15:49.529488Z"
    },
    "jupyter": {
     "outputs_hidden": true
    }
   },
   "outputs": [],
   "source": [
    "df = pd.read_parquet(\"data_usage_production.parquet\")\n",
    "df = df.drop(\n",
    "    [\n",
    "        \"lasttariff_m2\",\n",
    "        \"lasttariff_m3\",\n",
    "        \"lasttariff_m4\",\n",
    "        \"lasttariff_m5\",\n",
    "        \"lasttariff_m6\",\n",
    "        \"tariff_desc\",\n",
    "        \"customer_status\",\n",
    "    ],\n",
    "    axis=1,\n",
    ")\n",
    "df = df.sample(n=10000, random_state=42)\n",
    "df.info()"
   ]
  },
  {
   "cell_type": "code",
   "execution_count": null,
   "id": "54bc7b3d-ccf7-47f9-8cdd-156387f697aa",
   "metadata": {
    "execution": {
     "iopub.execute_input": "2025-08-04T19:15:56.708843Z",
     "iopub.status.busy": "2025-08-04T19:15:56.708601Z",
     "iopub.status.idle": "2025-08-04T19:15:56.734131Z",
     "shell.execute_reply": "2025-08-04T19:15:56.732854Z",
     "shell.execute_reply.started": "2025-08-04T19:15:56.708824Z"
    },
    "scrolled": true
   },
   "outputs": [],
   "source": [
    "df.set_index(\"telephone_number\", inplace=True)\n",
    "df.head()"
   ]
  },
  {
   "cell_type": "code",
   "execution_count": null,
   "id": "ffe92d67-7875-406b-9827-1371b24a2967",
   "metadata": {
    "execution": {
     "iopub.execute_input": "2025-08-04T19:25:19.416643Z",
     "iopub.status.busy": "2025-08-04T19:25:19.416348Z",
     "iopub.status.idle": "2025-08-04T19:25:19.424137Z",
     "shell.execute_reply": "2025-08-04T19:25:19.423283Z",
     "shell.execute_reply.started": "2025-08-04T19:25:19.416613Z"
    }
   },
   "outputs": [],
   "source": [
    "X = df.drop(\"data_compl_usg_local_m1\", axis=1)\n",
    "y = df[\"data_compl_usg_local_m1\"]\n",
    "\n",
    "features = X.columns"
   ]
  },
  {
   "cell_type": "code",
   "execution_count": null,
   "id": "f53ab9b1-00c4-4f3a-b7d3-420dc84c82e9",
   "metadata": {
    "execution": {
     "iopub.execute_input": "2025-08-04T19:31:08.346444Z",
     "iopub.status.busy": "2025-08-04T19:31:08.345594Z",
     "iopub.status.idle": "2025-08-04T19:31:08.350317Z",
     "shell.execute_reply": "2025-08-04T19:31:08.349426Z",
     "shell.execute_reply.started": "2025-08-04T19:31:08.346412Z"
    }
   },
   "outputs": [],
   "source": [
    "numeric_transformer = Pipeline(\n",
    "    [\n",
    "        (\"impute\", SimpleImputer(strategy=\"mean\")),\n",
    "        (\"scale\", StandardScaler()),\n",
    "    ]\n",
    ")\n",
    "\n",
    "preprocessor = ColumnTransformer(transformers=[(\"num\", numeric_transformer, features)])\n",
    "\n",
    "clf = Pipeline(steps=[(\"preprocessor\", preprocessor), (\"classifier\", RandomForestRegressor())])"
   ]
  },
  {
   "cell_type": "code",
   "execution_count": null,
   "id": "a443d7d8-6412-4639-ac1d-8811b169d639",
   "metadata": {
    "execution": {
     "iopub.execute_input": "2025-08-04T19:31:09.413355Z",
     "iopub.status.busy": "2025-08-04T19:31:09.413079Z",
     "iopub.status.idle": "2025-08-04T19:31:28.286534Z",
     "shell.execute_reply": "2025-08-04T19:31:28.285495Z",
     "shell.execute_reply.started": "2025-08-04T19:31:09.413335Z"
    }
   },
   "outputs": [],
   "source": [
    "X_train, X_val, y_train, y_val = train_test_split(X, y, test_size=0.2, random_state=42)\n",
    "\n",
    "clf.fit(X_train, y_train)"
   ]
  },
  {
   "cell_type": "code",
   "execution_count": null,
   "id": "131afd87-9933-4ba8-bf4b-8e9cac9dc2eb",
   "metadata": {
    "execution": {
     "iopub.execute_input": "2025-08-04T19:32:17.010721Z",
     "iopub.status.busy": "2025-08-04T19:32:17.010362Z",
     "iopub.status.idle": "2025-08-04T19:32:17.095084Z",
     "shell.execute_reply": "2025-08-04T19:32:17.094200Z",
     "shell.execute_reply.started": "2025-08-04T19:32:17.010694Z"
    }
   },
   "outputs": [],
   "source": [
    "y_pred = clf.predict(X_val)\n",
    "\n",
    "error = mean_squared_error(y_pred, y_val)\n",
    "print(error ** (1 / 2))"
   ]
  }
 ],
 "metadata": {
  "kernelspec": {
   "display_name": "Python 3 (ipykernel)",
   "language": "python",
   "name": "python3"
  },
  "language_info": {
   "codemirror_mode": {
    "name": "ipython",
    "version": 3
   },
   "file_extension": ".py",
   "mimetype": "text/x-python",
   "name": "python",
   "nbconvert_exporter": "python",
   "pygments_lexer": "ipython3",
   "version": "3.12.9"
  }
 },
 "nbformat": 4,
 "nbformat_minor": 5
}
